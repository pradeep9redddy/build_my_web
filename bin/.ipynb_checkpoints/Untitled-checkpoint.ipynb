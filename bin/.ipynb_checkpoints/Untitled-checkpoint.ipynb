{
 "cells": [
  {
   "cell_type": "code",
   "execution_count": 1,
   "metadata": {},
   "outputs": [
    {
     "name": "stdout",
     "output_type": "stream",
     "text": [
      "#--- words.txt ---------------------------------------------------------------#\n",
      "#\n",
      "# iam database word information\n",
      "#\n",
      "# format: a01-000u-00-00 ok 154 1 408 768 27 51 AT A\n",
      "#\n",
      "#     a01-000u-00-00  -> word id for line 00 in form a01-000u\n",
      "#     ok              -> result of word segmentation\n",
      "#                            ok: word was correctly\n",
      "#                            er: segmentation of word can be bad\n",
      "#\n",
      "#     154             -> graylevel to binarize the line containing this word\n",
      "#     1               -> number of components for this word\n",
      "#     408 768 27 51   -> bounding box around this word in x,y,w,h format\n",
      "#     AT              -> the grammatical tag for this word, see the\n",
      "#                        file tagset.txt for an explanation\n",
      "#     A               -> the transcription for this word\n",
      "#\n",
      "a01-000u-00-00 ok 154 408 768 27 51 AT A\n",
      "a01-000u-00-01 ok 154 507 766 213 48 NN MOVE\n"
     ]
    }
   ],
   "source": [
    "!head -20 data/words.txt"
   ]
  },
  {
   "cell_type": "code",
   "execution_count": 2,
   "metadata": {},
   "outputs": [],
   "source": [
    "from tensorflow import keras\n",
    "\n",
    "import matplotlib.pyplot as plt\n",
    "import tensorflow as tf\n",
    "import numpy as np\n",
    "import os\n",
    "\n",
    "np.random.seed(42)\n",
    "tf.random.set_seed(42)"
   ]
  },
  {
   "cell_type": "code",
   "execution_count": 3,
   "metadata": {},
   "outputs": [
    {
     "data": {
      "text/plain": [
       "96456"
      ]
     },
     "execution_count": 3,
     "metadata": {},
     "output_type": "execute_result"
    }
   ],
   "source": [
    "# base_path = \"data\"\n",
    "words_list = []\n",
    "\n",
    "words = open(\"/Users/vishwas/Desktop/build_my_web/data/words.txt\", \"r\").readlines()\n",
    "for line in words:\n",
    "    if line[0]=='#':\n",
    "        continue\n",
    "    if line.split(\" \")[1]!=\"err\": # We don't need to deal with errored entries.\n",
    "        words_list.append(line)\n",
    "\n",
    "len(words_list)"
   ]
  },
  {
   "cell_type": "code",
   "execution_count": 4,
   "metadata": {},
   "outputs": [
    {
     "name": "stdout",
     "output_type": "stream",
     "text": [
      "Total training samples: 86810\n",
      "Total validation samples: 4823\n",
      "Total test samples: 4823\n"
     ]
    }
   ],
   "source": [
    "np.random.shuffle(words_list)\n",
    "split_idx = int(0.9 * len(words_list))\n",
    "train_samples = words_list[:split_idx]\n",
    "test_samples = words_list[split_idx:]\n",
    "\n",
    "val_split_idx = int(0.5 * len(test_samples))\n",
    "validation_samples = test_samples[:val_split_idx]\n",
    "test_samples = test_samples[val_split_idx:]\n",
    "\n",
    "assert len(words_list) == len(train_samples) + len(validation_samples) + len(test_samples)\n",
    "\n",
    "print(f\"Total training samples: {len(train_samples)}\")\n",
    "print(f\"Total validation samples: {len(validation_samples)}\")\n",
    "print(f\"Total test samples: {len(test_samples)}\")"
   ]
  },
  {
   "cell_type": "code",
   "execution_count": 5,
   "metadata": {},
   "outputs": [],
   "source": [
    "base_image_path = \"/Users/vishwas/Desktop/build_my_web/data/words\"\n",
    "def get_image_paths_and_labels(samples):\n",
    "    paths = []\n",
    "    corrected_samples = []\n",
    "    for (i, file_line) in enumerate(samples):\n",
    "        line_split = file_line.strip()\n",
    "        line_split = line_split.split(\" \")\n",
    "        \n",
    "        # Each line split will have this format for the corresponding image:\n",
    "        # part1/part1-part2/part1-part2-part3.png\n",
    "        image_name = line_split[0] \n",
    "        partI = image_name.split(\"-\")[0]\n",
    "        partII = image_name.split(\"-\")[1]\n",
    "        img_path =  os.path.join(base_image_path, partI, \n",
    "            partI + \"-\" + partII,\n",
    "            image_name + \".png\"\n",
    "        )\n",
    "        if os.path.getsize(img_path):\n",
    "            paths.append(img_path)\n",
    "            corrected_samples.append(file_line.split(\"\\n\")[0])\n",
    "#         print(file_line,\"..\",image_name,\"..\",partI,\"..\",partII,\"..\",img_path)\n",
    "#         break\n",
    "    return paths, corrected_samples\n",
    "\n",
    "\n",
    "train_img_paths, train_labels = get_image_paths_and_labels(train_samples)\n",
    "validation_img_paths, validation_labels = get_image_paths_and_labels(validation_samples)\n",
    "test_img_paths, test_labels = get_image_paths_and_labels(test_samples)\n"
   ]
  },
  {
   "cell_type": "code",
   "execution_count": 6,
   "metadata": {},
   "outputs": [
    {
     "name": "stdout",
     "output_type": "stream",
     "text": [
      "/Users/vishwas/Desktop/build_my_web/data/words/e04/e04-030/e04-030-04-08.png __ e04-030-04-08 ok 170 1489 1499 120 39 JJ sure\n"
     ]
    }
   ],
   "source": [
    "print(train_img_paths[0],\"__\", train_labels[0])"
   ]
  },
  {
   "cell_type": "code",
   "execution_count": 7,
   "metadata": {},
   "outputs": [
    {
     "name": "stdout",
     "output_type": "stream",
     "text": [
      "Maximum length:  21\n",
      "Vocab size(alpha+num+punch):  78\n",
      "86808\n"
     ]
    },
    {
     "data": {
      "text/plain": [
       "{'!',\n",
       " '\"',\n",
       " '#',\n",
       " '&',\n",
       " \"'\",\n",
       " '(',\n",
       " ')',\n",
       " '*',\n",
       " '+',\n",
       " ',',\n",
       " '-',\n",
       " '.',\n",
       " '/',\n",
       " '0',\n",
       " '1',\n",
       " '2',\n",
       " '3',\n",
       " '4',\n",
       " '5',\n",
       " '6',\n",
       " '7',\n",
       " '8',\n",
       " '9',\n",
       " ':',\n",
       " ';',\n",
       " '?',\n",
       " 'A',\n",
       " 'B',\n",
       " 'C',\n",
       " 'D',\n",
       " 'E',\n",
       " 'F',\n",
       " 'G',\n",
       " 'H',\n",
       " 'I',\n",
       " 'J',\n",
       " 'K',\n",
       " 'L',\n",
       " 'M',\n",
       " 'N',\n",
       " 'O',\n",
       " 'P',\n",
       " 'Q',\n",
       " 'R',\n",
       " 'S',\n",
       " 'T',\n",
       " 'U',\n",
       " 'V',\n",
       " 'W',\n",
       " 'X',\n",
       " 'Y',\n",
       " 'Z',\n",
       " 'a',\n",
       " 'b',\n",
       " 'c',\n",
       " 'd',\n",
       " 'e',\n",
       " 'f',\n",
       " 'g',\n",
       " 'h',\n",
       " 'i',\n",
       " 'j',\n",
       " 'k',\n",
       " 'l',\n",
       " 'm',\n",
       " 'n',\n",
       " 'o',\n",
       " 'p',\n",
       " 'q',\n",
       " 'r',\n",
       " 's',\n",
       " 't',\n",
       " 'u',\n",
       " 'v',\n",
       " 'w',\n",
       " 'x',\n",
       " 'y',\n",
       " 'z'}"
      ]
     },
     "execution_count": 7,
     "metadata": {},
     "output_type": "execute_result"
    }
   ],
   "source": [
    "# Find maximum length and the size of the vocabulary in the training data.\n",
    "train_labels_cleaned = []\n",
    "characters = set()\n",
    "max_len = 0\n",
    "\n",
    "for label in train_labels:\n",
    "    label = label.split(\" \")[-1].strip()\n",
    "    for char in label:\n",
    "        characters.add(char)\n",
    "\n",
    "    max_len = max(max_len, len(label))\n",
    "    train_labels_cleaned.append(label)\n",
    "\n",
    "print(\"Maximum length: \", max_len)\n",
    "print(\"Vocab size(alpha+num+punch): \", len(characters))\n",
    "print(len(train_labels_cleaned))\n",
    "characters"
   ]
  },
  {
   "cell_type": "code",
   "execution_count": 8,
   "metadata": {},
   "outputs": [],
   "source": [
    "def clean_labels(labels):\n",
    "    cleaned_labels = []\n",
    "    for label in labels:\n",
    "        label = label.split(\" \")[-1].strip()\n",
    "        cleaned_labels.append(label)\n",
    "    return cleaned_labels\n",
    "\n",
    "\n",
    "validation_labels_cleaned = clean_labels(validation_labels)\n",
    "test_labels_cleaned = clean_labels(test_labels)"
   ]
  },
  {
   "cell_type": "code",
   "execution_count": 9,
   "metadata": {},
   "outputs": [],
   "source": [
    "from tensorflow.keras.layers.experimental.preprocessing import StringLookup\n",
    "AUTOTUNE = tf.data.AUTOTUNE"
   ]
  },
  {
   "cell_type": "code",
   "execution_count": 10,
   "metadata": {},
   "outputs": [
    {
     "name": "stdout",
     "output_type": "stream",
     "text": [
      "['i', 'K', '/', 'T', 'z', 'a', ')', '+', 'D', 'n', '#', '3', 'd', 'S', '6', 's', 'h', 'p', 'W', ':', 'k', 'I', 'w', 'y', '!', 'H', 'R', 'q', 'o', '5', 'M', 'l', '8', '&', 'Y', 'L', 'P', '?', 'N', 'O', ',', 'v', '-', 'c', ';', 'C', 'G', '1', 'g', 'e', 'J', 'u', 'r', '\"', 'j', '0', 'E', 'F', 'x', 'b', 'V', 'm', 'X', '.', 'Z', '7', 't', '*', '2', 'U', 'B', \"'\", 'Q', '4', 'f', '(', 'A', '9'] {'i', 'K', '/', 'T', 'z', 'a', ')', '+', 'D', 'n', '#', '3', 'd', 'S', '6', 's', 'h', 'p', 'W', ':', 'k', 'I', 'w', 'y', '!', 'H', 'R', 'q', 'o', '5', 'M', 'l', '8', '&', 'Y', 'L', 'P', '?', 'N', 'O', ',', 'v', '-', 'c', ';', 'C', 'G', '1', 'g', 'e', 'J', 'u', 'r', '\"', 'j', '0', 'E', 'F', 'x', 'b', 'V', 'm', 'X', '.', 'Z', '7', 't', '*', '2', 'U', 'B', \"'\", 'Q', '4', 'f', '(', 'A', '9'}\n"
     ]
    }
   ],
   "source": [
    "# Mapping characters to integers.\n",
    "ccc=list(characters)\n",
    "# ccc.sort()\n",
    "char_to_num = StringLookup(vocabulary=ccc, mask_token=None)\n",
    "\n",
    "# Mapping integers back to original characters.\n",
    "num_to_char = StringLookup(\n",
    "    vocabulary=char_to_num.get_vocabulary(), mask_token=None, invert=True)\n",
    "\n",
    "\n",
    "file1 = open(\"ccc.txt\",\"w\")\n",
    "file1.write(str(ccc))\n",
    "file1 = open(\"characters.txt\",\"w\")\n",
    "file1.write(str(characters))\n",
    "print(ccc,characters)"
   ]
  },
  {
   "cell_type": "code",
   "execution_count": 11,
   "metadata": {},
   "outputs": [],
   "source": [
    "# x=tf.constant(\n",
    "# [[77],\n",
    "#  [58],\n",
    "#  [20],\n",
    "#  [56],\n",
    "#  [27],\n",
    "#  [56],\n",
    "#  [62]])\n",
    "# num_to_char(x)"
   ]
  },
  {
   "cell_type": "code",
   "execution_count": 12,
   "metadata": {},
   "outputs": [],
   "source": [
    "def distortion_free_resize(image, img_size):\n",
    "    w, h = img_size\n",
    "    image  = tf.image.resize(image, size=(h, w), preserve_aspect_ratio=True)\n",
    "\n",
    "    # Check tha amount of padding needed to be done.\n",
    "    pad_height = h - tf.shape(image)[0]\n",
    "    pad_width = w - tf.shape(image)[1]\n",
    "\n",
    "    # Only necessary if you want to do same amount of padding on both sides.\n",
    "    if pad_height % 2 != 0:\n",
    "        height = pad_height // 2\n",
    "        pad_height_top = height + 1\n",
    "        pad_height_bottom = height\n",
    "    else:\n",
    "        pad_height_top = pad_height_bottom = pad_height // 2\n",
    "    \n",
    "    if pad_width % 2 != 0:\n",
    "        width = pad_width // 2\n",
    "        pad_width_left = width + 1\n",
    "        pad_width_right = width\n",
    "    else:\n",
    "        pad_width_left = pad_width_right = pad_width // 2\n",
    "\n",
    "    image = tf.pad(\n",
    "        image,\n",
    "        paddings=[\n",
    "                  [pad_height_top, pad_height_bottom],\n",
    "                  [pad_width_left, pad_width_right],\n",
    "                  [0, 0]\n",
    "                ]\n",
    "        )\n",
    "\n",
    "    image = tf.transpose(image, perm=[1, 0, 2])\n",
    "    image = tf.image.flip_left_right(image)\n",
    "    return image"
   ]
  },
  {
   "cell_type": "code",
   "execution_count": 13,
   "metadata": {},
   "outputs": [],
   "source": [
    "batch_size = 64\n",
    "padding_token = 99\n",
    "image_width = 128\n",
    "image_height = 32\n",
    "\n",
    "\n",
    "def preprocess_image(image_path, img_size=(image_width, image_height)):\n",
    "    image = tf.io.read_file(image_path)\n",
    "    image = tf.image.decode_png(image, 1)\n",
    "    image = distortion_free_resize(image, img_size)\n",
    "    image = tf.cast(image, tf.float32) / 255.\n",
    "    return image\n",
    "\n",
    "\n",
    "def vectorize_label(label):\n",
    "    label = char_to_num(tf.strings.unicode_split(label, input_encoding=\"UTF-8\"))\n",
    "    length = tf.shape(label)[0]\n",
    "    pad_amount = max_len - length\n",
    "    label = tf.pad(label, paddings=[[0, pad_amount]], constant_values=padding_token)\n",
    "    return label\n",
    "\n",
    "\n",
    "def process_images_labels(image_path, label):\n",
    "    image = preprocess_image(image_path)\n",
    "    label = vectorize_label(label)\n",
    "    return {\"image\": image, \"label\": label}\n",
    "\n",
    "\n",
    "def prepare_dataset(image_paths, labels):\n",
    "    #creats a something like generator and applies a funtion for each element (.map)\n",
    "    dataset = tf.data.Dataset.from_tensor_slices((image_paths, labels)).map(\n",
    "        process_images_labels, num_parallel_calls=AUTOTUNE\n",
    "    )\n",
    "    #batch is like grouping into buckets \n",
    "    return dataset.batch(batch_size).cache().prefetch(AUTOTUNE)"
   ]
  },
  {
   "cell_type": "code",
   "execution_count": 14,
   "metadata": {},
   "outputs": [],
   "source": [
    "train_ds = prepare_dataset(train_img_paths, train_labels_cleaned)\n",
    "validation_ds = prepare_dataset(validation_img_paths, validation_labels_cleaned)\n",
    "test_ds = prepare_dataset(test_img_paths, test_labels_cleaned)\n"
   ]
  },
  {
   "cell_type": "code",
   "execution_count": 15,
   "metadata": {},
   "outputs": [
    {
     "data": {
      "image/png": "[encoded data removed]",
      "text/plain": [
       "<Figure size 1080x576 with 16 Axes>"
      ]
     },
     "metadata": {
      "needs_background": "light"
     },
     "output_type": "display_data"
    }
   ],
   "source": [
    "#Creates a Dataset with at most count elements from this dataset. - \n",
    "#take(1) takes first data from dataset\n",
    "#take(5) takes first 5 datas from dataset\n",
    "for data in train_ds.take(1):\n",
    "    images, labels = data[\"image\"], data[\"label\"]\n",
    "\n",
    "    _, ax = plt.subplots(4, 4, figsize=(15, 8))\n",
    "\n",
    "    for i in range(16):\n",
    "        img = images[i]\n",
    "        img = tf.image.flip_left_right(img)\n",
    "        img = tf.transpose(img, perm=[1, 0, 2])\n",
    "        img = (img * 255.).numpy().clip(0, 255).astype(np.uint8)\n",
    "        img = img[:, :, 0]\n",
    "\n",
    "        # Gather indices where label!= 99.\n",
    "        label = labels[i]\n",
    "        indices = tf.gather(label, tf.where(tf.math.not_equal(label, padding_token)))\n",
    "        # Convert to string.\n",
    "        label = tf.strings.reduce_join(num_to_char(indices))\n",
    "        label = label.numpy().decode(\"utf-8\")\n",
    "\n",
    "        ax[i // 4, i % 4].imshow(img, cmap=\"gray\")\n",
    "        ax[i // 4, i % 4].set_title(label)\n",
    "        ax[i // 4, i % 4].axis(\"off\")\n",
    "\n",
    "\n",
    "plt.show()\n"
   ]
  },
  {
   "cell_type": "code",
   "execution_count": 16,
   "metadata": {},
   "outputs": [
    {
     "name": "stdout",
     "output_type": "stream",
     "text": [
      "Model: \"handwriting_recognizer\"\n",
      "__________________________________________________________________________________________________\n",
      "Layer (type)                    Output Shape         Param #     Connected to                     \n",
      "==================================================================================================\n",
      "image (InputLayer)              [(None, 128, 32, 1)] 0                                            \n",
      "__________________________________________________________________________________________________\n",
      "Conv1 (Conv2D)                  (None, 128, 32, 32)  320         image[0][0]                      \n",
      "__________________________________________________________________________________________________\n",
      "pool1 (MaxPooling2D)            (None, 64, 16, 32)   0           Conv1[0][0]                      \n",
      "__________________________________________________________________________________________________\n",
      "Conv2 (Conv2D)                  (None, 64, 16, 64)   18496       pool1[0][0]                      \n",
      "__________________________________________________________________________________________________\n",
      "pool2 (MaxPooling2D)            (None, 32, 8, 64)    0           Conv2[0][0]                      \n",
      "__________________________________________________________________________________________________\n",
      "reshape (Reshape)               (None, 32, 512)      0           pool2[0][0]                      \n",
      "__________________________________________________________________________________________________\n",
      "dense1 (Dense)                  (None, 32, 64)       32832       reshape[0][0]                    \n",
      "__________________________________________________________________________________________________\n",
      "dropout (Dropout)               (None, 32, 64)       0           dense1[0][0]                     \n",
      "__________________________________________________________________________________________________\n",
      "bidirectional (Bidirectional)   (None, 32, 256)      197632      dropout[0][0]                    \n",
      "__________________________________________________________________________________________________\n",
      "bidirectional_1 (Bidirectional) (None, 32, 128)      164352      bidirectional[0][0]              \n",
      "__________________________________________________________________________________________________\n",
      "label (InputLayer)              [(None, None)]       0                                            \n",
      "__________________________________________________________________________________________________\n",
      "dense2 (Dense)                  (None, 32, 81)       10449       bidirectional_1[0][0]            \n",
      "__________________________________________________________________________________________________\n",
      "ctc_layer (CTCLayer)            (None, 32, 81)       0           label[0][0]                      \n",
      "                                                                 dense2[0][0]                     \n",
      "==================================================================================================\n",
      "Total params: 424,081\n",
      "Trainable params: 424,081\n",
      "Non-trainable params: 0\n",
      "__________________________________________________________________________________________________\n"
     ]
    }
   ],
   "source": [
    "class CTCLayer(keras.layers.Layer):\n",
    "    def __init__(self, name=None,**kwargs):\n",
    "        super().__init__(name=name)\n",
    "        self.loss_fn = keras.backend.ctc_batch_cost\n",
    "#         super(CustomLayer, self).__init__(name=name)\n",
    "#         self.k = k\n",
    "        super(CTCLayer, self).__init__(**kwargs)\n",
    "\n",
    "    def call(self, y_true, y_pred):\n",
    "        batch_len = tf.cast(tf.shape(y_true)[0], dtype=\"int64\")\n",
    "        input_length = tf.cast(tf.shape(y_pred)[1], dtype=\"int64\")\n",
    "        label_length = tf.cast(tf.shape(y_true)[1], dtype=\"int64\")\n",
    "\n",
    "        input_length = input_length * tf.ones(shape=(batch_len, 1), dtype=\"int64\")\n",
    "        label_length = label_length * tf.ones(shape=(batch_len, 1), dtype=\"int64\")\n",
    "        loss = self.loss_fn(y_true, y_pred, input_length, label_length)\n",
    "        self.add_loss(loss)\n",
    "\n",
    "        # At test time, just return the computed predictions.\n",
    "        return y_pred\n",
    "\n",
    "\n",
    "def build_model():\n",
    "    # Inputs to the model\n",
    "    input_img =  keras.Input(\n",
    "        shape=(image_width, image_height, 1), name=\"image\")\n",
    "    labels =  keras.layers.Input(name=\"label\", shape=(None,))\n",
    "\n",
    "    # First conv block.\n",
    "    x = keras.layers.Conv2D(\n",
    "        32,\n",
    "        (3, 3),\n",
    "        activation=\"relu\",\n",
    "        kernel_initializer=\"he_normal\",\n",
    "        padding=\"same\",\n",
    "        name=\"Conv1\",\n",
    "    )(input_img)\n",
    "    x =  keras.layers.MaxPooling2D((2, 2), name=\"pool1\")(x)\n",
    "\n",
    "    # Second conv block.\n",
    "    x =  keras.layers.Conv2D(\n",
    "        64,\n",
    "        (3, 3),\n",
    "        activation=\"relu\",\n",
    "        kernel_initializer=\"he_normal\",\n",
    "        padding=\"same\",\n",
    "        name=\"Conv2\",\n",
    "    )(x)\n",
    "    x =  keras.layers.MaxPooling2D((2, 2), name=\"pool2\")(x)\n",
    "\n",
    "    # We have used two max pool with pool size and strides 2.\n",
    "    # Hence, downsampled feature maps are 4x smaller. The number of\n",
    "    # filters in the last layer is 64. Reshape accordingly before\n",
    "    # passing the output to the RNN part of the model.\n",
    "    new_shape = ((image_width // 4), (image_height // 4) * 64)\n",
    "    x =  keras.layers.Reshape(target_shape=new_shape, name=\"reshape\")(x)\n",
    "    x =  keras.layers.Dense(64, activation=\"relu\", name=\"dense1\")(x)\n",
    "    x =  keras.layers.Dropout(0.2)(x)\n",
    "\n",
    "    # RNNs.\n",
    "    x =  keras.layers.Bidirectional(keras.layers.LSTM(128, return_sequences=True, dropout=0.25))(x)\n",
    "    x =  keras.layers.Bidirectional(keras.layers.LSTM(64, return_sequences=True, dropout=0.25))(x)\n",
    "\n",
    "    # Output layer (the tokenizer is char-level)\n",
    "    # +2 is to account for the two special tokens introduced by the CTC loss.\n",
    "    # The recommendation comes here: https://git.io/J0eXP.\n",
    "    x =  keras.layers.Dense(len(char_to_num.get_vocabulary()) + 2, activation=\"softmax\", name=\"dense2\")(x)\n",
    "    \n",
    "    # Add CTC layer for calculating CTC loss at each step.\n",
    "    output = CTCLayer(name=\"ctc_loss\")(labels, x)\n",
    "\n",
    "    # Define the model.\n",
    "    model =  keras.models.Model(\n",
    "        inputs=[input_img, labels], outputs=output, name=\"handwriting_recognizer\"\n",
    "    )\n",
    "    # Optimizer.\n",
    "    opt = keras.optimizers.Adam()\n",
    "    # Compile the model and return.\n",
    "    model.compile(optimizer=opt)\n",
    "    return model\n",
    "\n",
    "\n",
    "# Get the model.\n",
    "model = build_model()\n",
    "model.summary()"
   ]
  },
  {
   "cell_type": "code",
   "execution_count": 17,
   "metadata": {},
   "outputs": [
    {
     "name": "stdout",
     "output_type": "stream",
     "text": [
      "Epoch 1/20\n",
      "1357/1357 [==============================] - 285s 206ms/step - loss: 16.7679 - val_loss: 11.8772\n",
      "Epoch 2/20\n",
      "1357/1357 [==============================] - 261s 192ms/step - loss: 11.3177 - val_loss: 9.7859\n",
      "Epoch 3/20\n",
      "1357/1357 [==============================] - 285s 210ms/step - loss: 9.5865 - val_loss: 8.2283\n",
      "Epoch 4/20\n",
      "1357/1357 [==============================] - 258s 190ms/step - loss: 8.1640 - val_loss: 6.6654\n",
      "Epoch 5/20\n",
      "1357/1357 [==============================] - 259s 191ms/step - loss: 6.8743 - val_loss: 5.3623\n",
      "Epoch 6/20\n",
      "1357/1357 [==============================] - 257s 190ms/step - loss: 5.7621 - val_loss: 4.4317\n",
      "Epoch 7/20\n",
      "1357/1357 [==============================] - 259s 191ms/step - loss: 4.9579 - val_loss: 3.8599\n",
      "Epoch 8/20\n",
      "1357/1357 [==============================] - 262s 193ms/step - loss: 4.4251 - val_loss: 3.4453\n",
      "Epoch 9/20\n",
      "1357/1357 [==============================] - 264s 195ms/step - loss: 4.0257 - val_loss: 3.1795\n",
      "Epoch 10/20\n",
      "1357/1357 [==============================] - 267s 197ms/step - loss: 3.6993 - val_loss: 2.9896\n",
      "Epoch 11/20\n",
      "1357/1357 [==============================] - 267s 197ms/step - loss: 3.4608 - val_loss: 2.8342\n",
      "Epoch 12/20\n",
      "1357/1357 [==============================] - 268s 198ms/step - loss: 3.2846 - val_loss: 2.6539\n",
      "Epoch 13/20\n",
      "1357/1357 [==============================] - 271s 200ms/step - loss: 3.1130 - val_loss: 2.5242\n",
      "Epoch 14/20\n",
      "1357/1357 [==============================] - 272s 200ms/step - loss: 2.9997 - val_loss: 2.5790\n",
      "Epoch 15/20\n",
      "1357/1357 [==============================] - 272s 201ms/step - loss: 2.8782 - val_loss: 2.4714\n",
      "Epoch 16/20\n",
      "1357/1357 [==============================] - 272s 200ms/step - loss: 2.7708 - val_loss: 2.3749\n",
      "Epoch 17/20\n",
      "1357/1357 [==============================] - 274s 202ms/step - loss: 2.6952 - val_loss: 2.2662\n",
      "Epoch 18/20\n",
      "1357/1357 [==============================] - 274s 202ms/step - loss: 2.6228 - val_loss: 2.2820\n",
      "Epoch 19/20\n",
      "1357/1357 [==============================] - 275s 202ms/step - loss: 2.5606 - val_loss: 2.2531\n",
      "Epoch 20/20\n",
      "1357/1357 [==============================] - 273s 201ms/step - loss: 2.5060 - val_loss: 2.2646\n",
      "model saved\n"
     ]
    }
   ],
   "source": [
    "epochs = 20 # To get good results this should be at least 50.\n",
    "\n",
    "# Train the model\n",
    "model = build_model()\n",
    "history = model.fit(\n",
    "    train_ds,\n",
    "    validation_data=validation_ds,\n",
    "    epochs=epochs,\n",
    ")\n",
    "model.save('model_20.h5')\n",
    "print(\"model saved\")"
   ]
  },
  {
   "cell_type": "code",
   "execution_count": 18,
   "metadata": {},
   "outputs": [],
   "source": [
    "# from keras.models import model_from_json\n",
    "# from keras.models import load_model\n",
    "\n",
    "# # serialize model to JSON\n",
    "# #  the keras model which is trained is defined as 'model' in this example\n",
    "# model_json = model.to_json()\n",
    "\n",
    "\n",
    "# with open(\"model_num.json\", \"w\") as json_file:\n",
    "#     json_file.write(model_json)\n",
    "\n",
    "# # serialize weights to HDF5\n",
    "# model.save_weights(\"model_num.h5\")"
   ]
  },
  {
   "cell_type": "code",
   "execution_count": 19,
   "metadata": {},
   "outputs": [
    {
     "data": {
      "image/png": "[encoded data removed]",
      "text/plain": [
       "<Figure size 1080x576 with 16 Axes>"
      ]
     },
     "metadata": {
      "needs_background": "light"
     },
     "output_type": "display_data"
    }
   ],
   "source": [
    "prediction_model = keras.models.Model(\n",
    "    model.get_layer(name=\"image\").input, model.get_layer(name=\"dense2\").output\n",
    ")\n",
    "def decode_batch_predictions(pred):\n",
    "    input_len = np.ones(pred.shape[0]) * pred.shape[1]\n",
    "    # Use greedy search. For complex tasks, you can use beam search.\n",
    "    results = keras.backend.ctc_decode(pred, input_length=input_len, greedy=True)[0][0][\n",
    "        :, :max_len\n",
    "    ]\n",
    "    # Iterate over the results and get back the text.\n",
    "    output_text = []\n",
    "    for res in results:\n",
    "        res = tf.gather(res, tf.where(tf.math.not_equal(res, -1)))\n",
    "        res = tf.strings.reduce_join(num_to_char(res)).numpy().decode(\"utf-8\")\n",
    "        output_text.append(res)\n",
    "    return output_text\n",
    "\n",
    "\n",
    "#  Let's check results on some test samples.\n",
    "for batch in test_ds.take(1):\n",
    "    batch_images = batch[\"image\"]\n",
    "    _, ax = plt.subplots(4, 4, figsize=(15, 8))\n",
    "\n",
    "    preds = prediction_model.predict(batch_images)\n",
    "    pred_texts = decode_batch_predictions(preds)\n",
    "\n",
    "    for i in range(16):\n",
    "        img = batch_images[i]\n",
    "        img = tf.image.flip_left_right(img)\n",
    "        img = tf.transpose(img, perm=[1, 0, 2])\n",
    "        img = (img * 255.0).numpy().clip(0, 255).astype(np.uint8)\n",
    "        img = img[:, :, 0]\n",
    "\n",
    "        title = f\"Prediction: {pred_texts[i]}\"\n",
    "        ax[i // 4, i % 4].imshow(img, cmap=\"gray\")\n",
    "        ax[i // 4, i % 4].set_title(title)\n",
    "        ax[i // 4, i % 4].axis(\"off\")\n",
    "\n",
    "plt.show()"
   ]
  },
  {
   "cell_type": "code",
   "execution_count": 20,
   "metadata": {},
   "outputs": [],
   "source": [
    "new_model = tf.keras.models.load_model('model_20.h5', custom_objects={'CTCLayer': CTCLayer})"
   ]
  },
  {
   "cell_type": "code",
   "execution_count": 21,
   "metadata": {},
   "outputs": [],
   "source": [
    "# # v=[\"/Users/vishwas/Desktop/whatsapp/v.jpeg\",\"/Users/vishwas/Desktop/whatsapp/2.jpeg\",\"/Users/vishwas/Desktop/whatsapp/3.jpeg\",\"/Users/vishwas/Desktop/whatsapp/7.jpeg\",\n",
    "# #   \"/Users/vishwas/Desktop/whatsapp/8.jpeg\",\"/Users/vishwas/Desktop/whatsapp/9.jpeg\",\"/Users/vishwas/Desktop/whatsapp/10.jpeg\",\"/Users/vishwas/Desktop/whatsapp/w.jpeg\",\n",
    "# #   \"/Users/vishwas/Desktop/whatsapp/srn.jpeg\"]\n",
    "# # v_file_name=[\"v.jpeg\",\"2.jpeg\",\"3.jpeg\",\"4\",\"8\",\"9\",\"10\",\"web\",\"srn\"]\n",
    "# # v_test=prepare_dataset(v, v_file_name)\n",
    "# prediction_model = keras.models.Model(\n",
    "#     new_model.get_layer(name=\"image\").input, new_model.get_layer(name=\"dense2\").output\n",
    "# )\n",
    "# def decode_batch_predictions(pred):\n",
    "#     input_len = np.ones(pred.shape[0]) * pred.shape[1]\n",
    "#     # Use greedy search. For complex tasks, you can use beam search.\n",
    "#     results = keras.backend.ctc_decode(pred, input_length=input_len, greedy=True)[0][0][\n",
    "#         :, :max_len\n",
    "#     ]\n",
    "    \n",
    "#     # Iterate over the results and get back the text.\n",
    "#     output_text = []\n",
    "#     for res in results:\n",
    "#         res = tf.gather(res, tf.where(tf.math.not_equal(res, -1)))\n",
    "# #         print(res)\n",
    "#         res = tf.strings.reduce_join(num_to_char(res)).numpy().decode(\"utf-8\")\n",
    "#         output_text.append(res)\n",
    "# #     with open('/Users/vishwas/Desktop/bd/model.txt', 'w') as f:\n",
    "# #         f.write(str(output_text))\n",
    "#     return output_text\n",
    "\n",
    "\n",
    "# #  Let's check results on some test samples.\n",
    "# for batch in v_test.take(1):\n",
    "#     batch_images = batch[\"image\"]\n",
    "#     _, ax = plt.subplots(4, 4, figsize=(15, 8))\n",
    "\n",
    "#     preds = prediction_model.predict(batch_images)\n",
    "#     pred_texts = decode_batch_predictions(preds)\n",
    "\n",
    "#     for i in range(len(batch[\"image\"])):\n",
    "#         img = batch_images[i]\n",
    "#         img = tf.image.flip_left_right(img)\n",
    "#         img = tf.transpose(img, perm=[1, 0, 2])\n",
    "#         img = (img * 255.0).numpy().clip(0, 255).astype(np.uint8)\n",
    "#         img = img[:, :, 0]\n",
    "\n",
    "#         title = f\"Prediction: {pred_texts[i]}\"\n",
    "#         ax[i // 4, i % 4].imshow(img, cmap=\"gray\")\n",
    "#         ax[i // 4, i % 4].set_title(title)\n",
    "#         ax[i // 4, i % 4].axis(\"off\")\n",
    "\n",
    "# plt.show()"
   ]
  },
  {
   "cell_type": "code",
   "execution_count": 22,
   "metadata": {},
   "outputs": [],
   "source": [
    "# loaded_model = load_model('my_model.h5', custom_objects={'CTCLayer': CTCLayer})\n",
    "# # load weights into new model\n",
    "# loaded_model.load_weights(\"model_num.h5\")\n",
    "# print(\"Loaded model from disk\")\n",
    "\n",
    "# # loaded_model.save('model_num.hdf5')\n",
    "\n",
    "# # loaded_model=load_model('model_num.hdf5')"
   ]
  },
  {
   "cell_type": "code",
   "execution_count": 23,
   "metadata": {},
   "outputs": [],
   "source": [
    "# %%capture cap --no-stderr\n",
    "# c=model.weights"
   ]
  },
  {
   "cell_type": "code",
   "execution_count": 24,
   "metadata": {},
   "outputs": [],
   "source": [
    "# c=model.weights\n",
    "# with open('model.txt', 'w') as f:\n",
    "#     f.write(str(c))"
   ]
  },
  {
   "cell_type": "code",
   "execution_count": 25,
   "metadata": {},
   "outputs": [],
   "source": [
    "# prediction_model = keras.models.Model(\n",
    "#     model.get_layer(name=\"image\").input, model.get_layer(name=\"dense2\").output\n",
    "# )\n",
    "# model_json = prediction_model.to_json()\n",
    "\n",
    "\n",
    "# with open(\"model_num.json\", \"w\") as json_file:\n",
    "#     json_file.write(model_json)\n",
    "\n",
    "# # serialize weights to HDF5\n",
    "# prediction_model.save_weights(\"model_num.h5\")\n",
    "\n",
    "# loaded_model = load_model('my_model.h5', custom_objects={'CTCLayer': CTCLayer})\n",
    "# # load weights into new model\n",
    "# loaded_model.load_weights(\"model_num.h5\")\n",
    "# print(\"Loaded model from disk\")\n",
    "\n",
    "# # loaded_model.save('model_num.hdf5')\n",
    "# # loaded_model=load_model('model_num.hdf5')\n",
    "\n",
    "# loaded_model.summary()\n",
    "# def decode_batch_predictions(pred):\n",
    "#     input_len = np.ones(pred.shape[0]) * pred.shape[1]\n",
    "#     # Use greedy search. For complex tasks, you can use beam search.\n",
    "#     results = keras.backend.ctc_decode(pred, input_length=input_len, greedy=True)[0][0][\n",
    "#         :, :max_len\n",
    "#     ]\n",
    "#     # Iterate over the results and get back the text.\n",
    "#     output_text = []\n",
    "#     for res in results:\n",
    "#         res = tf.gather(res, tf.where(tf.math.not_equal(res, -1)))\n",
    "#         res = tf.strings.reduce_join(num_to_char(res)).numpy().decode(\"utf-8\")\n",
    "#         output_text.append(res)\n",
    "#     return output_text\n",
    "\n",
    "\n",
    "# #  Let's check results on some test samples.\n",
    "# for batch in test_ds.take(1):\n",
    "#     batch_images = batch[\"image\"]\n",
    "#     _, ax = plt.subplots(4, 4, figsize=(15, 8))\n",
    "\n",
    "#     preds = loaded_model.predict(batch_images)\n",
    "#     pred_texts = decode_batch_predictions(preds)\n",
    "\n",
    "#     for i in range(16):\n",
    "#         img = batch_images[i]\n",
    "#         img = tf.image.flip_left_right(img)\n",
    "#         img = tf.transpose(img, perm=[1, 0, 2])\n",
    "#         img = (img * 255.).numpy().clip(0, 255).astype(np.uint8)\n",
    "#         img = img[:, :, 0]\n",
    "\n",
    "#         title = f\"Prediction: {pred_texts[i]}\"\n",
    "#         ax[i // 4, i % 4].imshow(img, cmap=\"gray\")\n",
    "#         ax[i // 4, i % 4].set_title(title)\n",
    "#         ax[i // 4, i % 4].axis(\"off\")\n",
    "\n",
    "# plt.show()"
   ]
  },
  {
   "cell_type": "code",
   "execution_count": 26,
   "metadata": {},
   "outputs": [],
   "source": [
    "# model.save('my_model.h5')"
   ]
  },
  {
   "cell_type": "code",
   "execution_count": 27,
   "metadata": {},
   "outputs": [],
   "source": [
    "# model.get_weights()"
   ]
  },
  {
   "cell_type": "code",
   "execution_count": 28,
   "metadata": {},
   "outputs": [],
   "source": [
    "# from tensorflow import keras\n",
    "# load_model = keras.models.load_model('my_model.h5')"
   ]
  },
  {
   "cell_type": "code",
   "execution_count": 29,
   "metadata": {},
   "outputs": [],
   "source": [
    "# from keras.models import load_model\n",
    "# # Assuming your model includes instance of an \"AttentionLayer\" class\n",
    "# l_m = load_model('my_model.h5', custom_objects={'CTCLayer': CTCLayer})"
   ]
  },
  {
   "cell_type": "code",
   "execution_count": 30,
   "metadata": {},
   "outputs": [],
   "source": [
    "# model.save('model.tf')\n",
    "# # new_model = tf.keras.models.load_model('model.tf')"
   ]
  },
  {
   "cell_type": "code",
   "execution_count": 31,
   "metadata": {},
   "outputs": [],
   "source": [
    "# new_model = tf.keras.models.load_model('model.tf')"
   ]
  },
  {
   "cell_type": "code",
   "execution_count": 32,
   "metadata": {},
   "outputs": [],
   "source": [
    "# prediction_model = keras.models.Model(\n",
    "#     model.get_layer(name=\"image\").input, model.get_layer(name=\"dense2\").output\n",
    "# )\n",
    "# prediction_model.summary()"
   ]
  },
  {
   "cell_type": "code",
   "execution_count": 33,
   "metadata": {},
   "outputs": [],
   "source": [
    "# prediction_model.save(\"prediction_model.tf\")"
   ]
  },
  {
   "cell_type": "code",
   "execution_count": 34,
   "metadata": {},
   "outputs": [],
   "source": [
    "# prediction_model.save(\"prediction_model.h5\")"
   ]
  },
  {
   "cell_type": "code",
   "execution_count": 35,
   "metadata": {},
   "outputs": [],
   "source": [
    "# load_prediction_model = keras.models.load_model('prediction_model.h5')"
   ]
  },
  {
   "cell_type": "code",
   "execution_count": 36,
   "metadata": {},
   "outputs": [],
   "source": [
    "# load_1model = keras.models.load_model('my_model.h5')"
   ]
  },
  {
   "cell_type": "code",
   "execution_count": 37,
   "metadata": {},
   "outputs": [],
   "source": [
    "# model.save_weights('my_model_weights.h5')"
   ]
  },
  {
   "cell_type": "code",
   "execution_count": 38,
   "metadata": {},
   "outputs": [],
   "source": [
    "# json_string = model.to_json()\n",
    "# open('my_model_architecture.json', 'w').write(json_string)"
   ]
  },
  {
   "cell_type": "code",
   "execution_count": 39,
   "metadata": {},
   "outputs": [],
   "source": [
    "# from keras.models import Sequential,model_from_json\n",
    "# model1 = model_from_json(open('my_model_architecture.json').read())\n",
    "\n",
    "# model1.load_weights('my_model_weights.h5')"
   ]
  },
  {
   "cell_type": "code",
   "execution_count": 40,
   "metadata": {},
   "outputs": [],
   "source": [
    "# model.save('model.hdf5')"
   ]
  },
  {
   "cell_type": "code",
   "execution_count": 41,
   "metadata": {},
   "outputs": [],
   "source": [
    "# new_model.summary()"
   ]
  },
  {
   "cell_type": "code",
   "execution_count": 42,
   "metadata": {},
   "outputs": [],
   "source": [
    "# model_json = model.to_json()\n",
    "# with open(\"model_final.json\", \"w\") as json_file:\n",
    "#     json_file.write(model_json)\n",
    "# # serialize weights to HDF5\n",
    "# model.save_weights(\"model_final.h5\")\n",
    "\n",
    "# print(\"Saved model to disk\")"
   ]
  },
  {
   "cell_type": "code",
   "execution_count": 43,
   "metadata": {},
   "outputs": [],
   "source": [
    "# son_file = open('model_final.json', 'r')\n",
    "# # loaded_model_json = json_file.read()\n",
    "# # json_file.close()\n",
    "# # loaded_model = model_from_json(loaded_model_json)\n",
    "# # load weights into new model\n",
    "# loaded_modelxx = build_model()\n",
    "# # loaded_modelxx.summary()\n",
    "# loaded_modelxx.load_weights(\"model_final.h5\")\n",
    "# print(\"Loaded model from disk\")"
   ]
  },
  {
   "cell_type": "code",
   "execution_count": 44,
   "metadata": {},
   "outputs": [],
   "source": [
    "# model.save_weights(\"model_final.hdf5\")"
   ]
  },
  {
   "cell_type": "code",
   "execution_count": 45,
   "metadata": {},
   "outputs": [],
   "source": [
    "# model.save(\"m\")"
   ]
  },
  {
   "cell_type": "code",
   "execution_count": 46,
   "metadata": {},
   "outputs": [],
   "source": [
    "# prediction_model = keras.models.Model(\n",
    "#     model.get_layer(name=\"image\").input, model.get_layer(name=\"dense2\").output\n",
    "# )\n",
    "# prediction_model.summary()\n"
   ]
  },
  {
   "cell_type": "code",
   "execution_count": 47,
   "metadata": {},
   "outputs": [],
   "source": [
    "# prediction_model.save_weights(\"prediction_model.h5\")\n",
    "# prediction_model.save_weights(\"prediction_model.hdf5\")"
   ]
  },
  {
   "cell_type": "code",
   "execution_count": 48,
   "metadata": {},
   "outputs": [],
   "source": [
    "# def decode_batch_predictions(pred):\n",
    "#     input_len = np.ones(pred.shape[0]) * pred.shape[1]\n",
    "#     # Use greedy search. For complex tasks, you can use beam search.\n",
    "#     results = keras.backend.ctc_decode(pred, input_length=input_len, greedy=True)[0][0][\n",
    "#         :, :max_len\n",
    "#     ]\n",
    "#     # Iterate over the results and get back the text.\n",
    "#     output_text = []\n",
    "#     for res in results:\n",
    "#         res = tf.gather(res, tf.where(tf.math.not_equal(res, -1)))\n",
    "#         res = tf.strings.reduce_join(num_to_char(res)).numpy().decode(\"utf-8\")\n",
    "#         output_text.append(res)\n",
    "#     return output_text\n",
    "\n",
    "\n",
    "# #  Let's check results on some test samples.\n",
    "# for batch in test_ds.take(1):\n",
    "#     batch_images = batch[\"image\"]\n",
    "#     _, ax = plt.subplots(4, 4, figsize=(15, 8))\n",
    "\n",
    "#     preds = prediction_model.predict(batch_images)\n",
    "#     pred_texts = decode_batch_predictions(preds)\n",
    "\n",
    "#     for i in range(16):\n",
    "#         img = batch_images[i]\n",
    "#         img = tf.image.flip_left_right(img)\n",
    "#         img = tf.transpose(img, perm=[1, 0, 2])\n",
    "#         img = (img * 255.).numpy().clip(0, 255).astype(np.uint8)\n",
    "#         img = img[:, :, 0]\n",
    "\n",
    "#         title = f\"Prediction: {pred_texts[i]}\"\n",
    "#         ax[i // 4, i % 4].imshow(img, cmap=\"gray\")\n",
    "#         ax[i // 4, i % 4].set_title(title)\n",
    "#         ax[i // 4, i % 4].axis(\"off\")\n",
    "\n",
    "# plt.show()"
   ]
  },
  {
   "cell_type": "code",
   "execution_count": 49,
   "metadata": {},
   "outputs": [],
   "source": [
    "# ok_final = build_model()\n",
    "# # loaded_modelxx.summary()\n",
    "# ok_final.load_weights(\"model_final.h5\")\n",
    "# print(\"Loaded model from disk\")\n",
    "# ok_final_prediction_model = keras.models.Model(\n",
    "#     ok_final.get_layer(name=\"image\").input, ok_final.get_layer(name=\"dense2\").output\n",
    "# )\n",
    "\n",
    "\n",
    "# def decode_batch_predictions(pred):\n",
    "#     input_len = np.ones(pred.shape[0]) * pred.shape[1]\n",
    "#     # Use greedy search. For complex tasks, you can use beam search.\n",
    "#     results = keras.backend.ctc_decode(pred, input_length=input_len, greedy=True)[0][0][\n",
    "#         :, :max_len\n",
    "#     ]\n",
    "#     # Iterate over the results and get back the text.\n",
    "#     output_text = []\n",
    "#     for res in results:\n",
    "#         res = tf.gather(res, tf.where(tf.math.not_equal(res, -1)))\n",
    "#         res = tf.strings.reduce_join(num_to_char(res)).numpy().decode(\"utf-8\")\n",
    "#         output_text.append(res)\n",
    "#     return output_text\n",
    "\n",
    "\n",
    "# #  Let's check results on some test samples.\n",
    "# for batch in test_ds.take(1):\n",
    "#     batch_images = batch[\"image\"]\n",
    "#     _, ax = plt.subplots(4, 4, figsize=(15, 8))\n",
    "\n",
    "#     preds = ok_final_prediction_model.predict(batch_images)\n",
    "#     pred_texts = decode_batch_predictions(preds)\n",
    "\n",
    "#     for i in range(16):\n",
    "#         img = batch_images[i]\n",
    "#         img = tf.image.flip_left_right(img)\n",
    "#         img = tf.transpose(img, perm=[1, 0, 2])\n",
    "#         img = (img * 255.).numpy().clip(0, 255).astype(np.uint8)\n",
    "#         img = img[:, :, 0]\n",
    "\n",
    "#         title = f\"Prediction: {pred_texts[i]}\"\n",
    "#         ax[i // 4, i % 4].imshow(img, cmap=\"gray\")\n",
    "#         ax[i // 4, i % 4].set_title(title)\n",
    "#         ax[i // 4, i % 4].axis(\"off\")\n",
    "\n",
    "# plt.show()"
   ]
  },
  {
   "cell_type": "code",
   "execution_count": 50,
   "metadata": {},
   "outputs": [],
   "source": [
    "# modle.save_weigh"
   ]
  },
  {
   "cell_type": "code",
   "execution_count": 51,
   "metadata": {},
   "outputs": [],
   "source": [
    "# ok_final = build_model()\n",
    "# # loaded_modelxx.summary()\n",
    "# ok_final.load_weights(\"model_final.h5\")\n",
    "# print(\"Loaded model from disk\")\n",
    "# ok_final_prediction_model = keras.models.Model(\n",
    "#     ok_final.get_layer(name=\"image\").input, ok_final.get_layer(name=\"dense2\").output\n",
    "# )\n",
    "\n",
    "\n",
    "# def decode_batch_predictions(pred):\n",
    "#     input_len = np.ones(pred.shape[0]) * pred.shape[1]\n",
    "#     # Use greedy search. For complex tasks, you can use beam search.\n",
    "#     results = keras.backend.ctc_decode(pred, input_length=input_len, greedy=True)[0][0][\n",
    "#         :, :max_len\n",
    "#     ]\n",
    "#     # Iterate over the results and get back the text.\n",
    "#     output_text = []\n",
    "#     for res in results:\n",
    "#         res = tf.gather(res, tf.where(tf.math.not_equal(res, -1)))\n",
    "#         res = tf.strings.reduce_join(num_to_char(res)).numpy().decode(\"utf-8\")\n",
    "#         output_text.append(res)\n",
    "#     return output_text\n",
    "\n",
    "\n",
    "# #  Let's check results on some test samples.\n",
    "# for batch in test_ds.take(1):\n",
    "#     batch_images = batch[\"image\"]\n",
    "#     _, ax = plt.subplots(4, 4, figsize=(15, 8))\n",
    "\n",
    "#     preds = ok_final_prediction_model.predict(batch_images)\n",
    "#     pred_texts = decode_batch_predictions(preds)\n",
    "\n",
    "#     for i in range(16):\n",
    "#         img = batch_images[i]\n",
    "#         img = tf.image.flip_left_right(img)\n",
    "#         img = tf.transpose(img, perm=[1, 0, 2])\n",
    "#         img = (img * 255.).numpy().clip(0, 255).astype(np.uint8)\n",
    "#         img = img[:, :, 0]\n",
    "\n",
    "#         title = f\"Prediction: {pred_texts[i]}\"\n",
    "#         ax[i // 4, i % 4].imshow(img, cmap=\"gray\")\n",
    "#         ax[i // 4, i % 4].set_title(title)\n",
    "#         ax[i // 4, i % 4].axis(\"off\")\n",
    "\n",
    "# plt.show()"
   ]
  },
  {
   "cell_type": "code",
   "execution_count": 52,
   "metadata": {},
   "outputs": [],
   "source": [
    "# model_json = model.to_json()\n",
    "# with open(\"model_last.json\", \"w\") as json_file:\n",
    "#     json_file.write(model_json)\n",
    "# # serialize weights to HDF5\n",
    "# model.save_weights(\"model_last.h5\")\n",
    "# print(\"Saved model to disk\")"
   ]
  }
 ],
 "metadata": {
  "kernelspec": {
   "display_name": "Python 3",
   "language": "python",
   "name": "python3"
  },
  "language_info": {
   "codemirror_mode": {
    "name": "ipython",
    "version": 3
   },
   "file_extension": ".py",
   "mimetype": "text/x-python",
   "name": "python",
   "nbconvert_exporter": "python",
   "pygments_lexer": "ipython3",
   "version": "3.7.4"
  }
 },
 "nbformat": 4,
 "nbformat_minor": 4
}
