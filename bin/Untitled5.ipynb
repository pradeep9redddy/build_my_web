{
 "cells": [
  {
   "cell_type": "code",
   "execution_count": 8,
   "metadata": {},
   "outputs": [
    {
     "name": "stdout",
     "output_type": "stream",
     "text": [
      "Number of Contours found = 13\n",
      "(44, 734, 234, 58)\n",
      "(43, 638, 235, 55)\n",
      "(47, 540, 233, 57)\n",
      "(50, 443, 230, 55)\n",
      "(51, 348, 229, 55)\n",
      "(50, 255, 232, 56)\n",
      "(54, 162, 229, 64)\n",
      "(59, 82, 221, 61)\n"
     ]
    },
    {
     "data": {
      "text/plain": [
       "array([[[ 769, 1088]],\n",
       "\n",
       "       [[ 768, 1089]],\n",
       "\n",
       "       [[ 767, 1089]],\n",
       "\n",
       "       ...,\n",
       "\n",
       "       [[ 770, 1088]],\n",
       "\n",
       "       [[ 771, 1088]],\n",
       "\n",
       "       [[ 770, 1088]]], dtype=int32)"
      ]
     },
     "execution_count": 8,
     "metadata": {},
     "output_type": "execute_result"
    }
   ],
   "source": [
    "import cv2\n",
    "import numpy as np\n",
    "\n",
    "# Let's load a simple image with 3 black squares\n",
    "image = cv2.imread(\"r.jpg\")\n",
    "# cv2.waitKey(0)\n",
    "\n",
    "# Grayscale\n",
    "gray = cv2.cvtColor(image, cv2.COLOR_BGR2GRAY)\n",
    "\n",
    "# Find Canny edges\n",
    "edged = cv2.Canny(gray, 30, 200)\n",
    "# cv2.waitKey(0)\n",
    "\n",
    "# Finding Contours\n",
    "# Use a copy of the image e.g. edged.copy()\n",
    "# since findContours alters the image\n",
    "contours, hierarchy = cv2.findContours(edged,\n",
    "\tcv2.RETR_EXTERNAL, cv2.CHAIN_APPROX_NONE)\n",
    "\n",
    "# cv2.imshow('Canny Edges After Contouring', edged)\n",
    "# cv2.waitKey(0)\n",
    "\n",
    "print(\"Number of Contours found = \" + str(len(contours)))\n",
    "\n",
    "# Draw all contours\n",
    "# -1 signifies drawing all contours\n",
    "font = cv2.FONT_HERSHEY_SIMPLEX\n",
    "fontScale = 1\n",
    "\n",
    "# Blue color in BGR\n",
    "color = (255, 0, 0)\n",
    "  \n",
    "# Line thickne\n",
    "# cv2.drawContours(image, contours, -1, (0, 255, 0), 3)\n",
    "p=1\n",
    "for c in contours:\n",
    "        if cv2.contourArea(c) <= 50 :\n",
    "            continue    \n",
    "        x,y,w,h = cv2.boundingRect(c)\n",
    "#         cv2.rectangle(im, (x, y), (x + w, y + h), (0, 255,0), 2)\n",
    "#         image = cv2.putText(image, str((x,y)),(x,y), font, fontScale, color, 1, cv2.LINE_AA)\n",
    "        cropped_image = image[y+5:y+h-5, x+5:x+w-5]\n",
    "        cv2.imwrite(\"/Users/vishwas/Desktop/build_my_web/crop/\"+str(p)+\".jpg\", cropped_image)\n",
    "        p=p+1\n",
    "    \n",
    "        center = (x,y,w,h)\n",
    "        print (center)\n",
    "# cv2.imshow('Contours', image)\n",
    "# cv2.waitKey(0)\n",
    "cv2.destroyAllWindows()\n",
    "\n",
    "contours[0]"
   ]
  },
  {
   "cell_type": "code",
   "execution_count": 5,
   "metadata": {},
   "outputs": [],
   "source": [
    "import cv2\n",
    "import numpy as np"
   ]
  },
  {
   "cell_type": "code",
   "execution_count": 6,
   "metadata": {},
   "outputs": [],
   "source": [
    "# # Python code to find the co-ordinates of\n",
    "# # the contours detected in an image.\n",
    "# import numpy as np\n",
    "# import cv2\n",
    "\n",
    "# # Reading image\n",
    "# font = cv2.FONT_HERSHEY_COMPLEX\n",
    "# img2 = cv2.imread('/Users/vishwas/Downloads/IMG_20210924_121635__01__01.jpg', cv2.IMREAD_COLOR)\n",
    "\n",
    "# # Reading same image in another\n",
    "# # variable and converting to gray scale.\n",
    "# img = cv2.imread('/Users/vishwas/Desktop/whatsapp/seg.jpeg', cv2.IMREAD_GRAYSCALE)\n",
    "\n",
    "# # Converting image to a binary image\n",
    "# # ( black and white only image).\n",
    "# _, threshold = cv2.threshold(img, 110, 255, cv2.THRESH_BINARY)\n",
    "\n",
    "# # Detecting contours in image.\n",
    "# contours, _= cv2.findContours(threshold, cv2.RETR_TREE,\n",
    "# \t\t\t\t\t\t\tcv2.CHAIN_APPROX_SIMPLE)\n",
    "\n",
    "# # Going through every contours found in the image.\n",
    "# for cnt in contours :\n",
    "\n",
    "# \tapprox = cv2.approxPolyDP(cnt, 0.009 * cv2.arcLength(cnt, True), True)\n",
    "\n",
    "# \t# draws boundary of contours.\n",
    "# \tcv2.drawContours(img2, [approx], 0, (0, 0, 255), 5)\n",
    "\n",
    "# \t# Used to flatted the array containing\n",
    "# \t# the co-ordinates of the vertices.\n",
    "# \tn = approx.ravel()\n",
    "# \ti = 0\n",
    "\n",
    "# \tfor j in n :\n",
    "# \t\tif(i % 2 == 0):\n",
    "# \t\t\tx = n[i]\n",
    "# \t\t\ty = n[i + 1]\n",
    "\n",
    "# \t\t\t# String containing the co-ordinates.\n",
    "# \t\t\tstring = str(x) + \" \" + str(y)\n",
    "\n",
    "# \t\t\tif(i == 0):\n",
    "# \t\t\t\t# text on topmost co-ordinate.\n",
    "# \t\t\t\tcv2.putText(img2, \"Arrow tip\", (x, y),\n",
    "# \t\t\t\t\t\t\t\tfont, 0.5, (255, 0, 0))\n",
    "# \t\t\telse:\n",
    "# \t\t\t\t# text on remaining co-ordinates.\n",
    "# \t\t\t\tcv2.putText(img2, string, (x, y),\n",
    "# \t\t\t\t\t\tfont, 0.5, (0, 255, 0))\n",
    "# \t\ti = i + 1\n",
    "\n",
    "# # Showing the final image.\n",
    "# cv2.imshow('image2', img2)\n",
    "\n",
    "# # Exiting the window if 'q' is pressed on the keyboard.\n",
    "# if cv2.waitKey(0) & 0xFF == ord('q'):\n",
    "# \tcv2.destroyAllWindows()\n",
    "\n"
   ]
  },
  {
   "cell_type": "code",
   "execution_count": 1,
   "metadata": {},
   "outputs": [
    {
     "name": "stdout",
     "output_type": "stream",
     "text": [
      "Best angle: 2\n"
     ]
    },
    {
     "data": {
      "text/plain": [
       "True"
      ]
     },
     "execution_count": 1,
     "metadata": {},
     "output_type": "execute_result"
    }
   ],
   "source": [
    "import sys\n",
    "import matplotlib.pyplot as plt\n",
    "import numpy as np\n",
    "from PIL import Image as im\n",
    "from scipy.ndimage import interpolation as inter\n",
    "input_file = '/Users/vishwas/Downloads/IMG_20210924_121635__01__01.jpg'\n",
    "img = im.open(input_file)\n",
    "# convert to binary\n",
    "wd, ht = img.size\n",
    "pix = np.array(img.convert('1').getdata(), np.uint8)\n",
    "bin_img = 1 - (pix.reshape((ht, wd)) / 255.0)\n",
    "def find_score(arr, angle):\n",
    "    data = inter.rotate(arr, angle, reshape=False, order=0)\n",
    "    hist = np.sum(data, axis=1)\n",
    "    score = np.sum((hist[1:] - hist[:-1]) ** 2)\n",
    "    return hist, score\n",
    "delta = 1\n",
    "limit = 5\n",
    "angles = np.arange(-limit, limit+delta, delta)\n",
    "scores = []\n",
    "for angle in angles:\n",
    "    hist, score = find_score(bin_img, angle)\n",
    "    scores.append(score)\n",
    "best_score = max(scores)\n",
    "best_angle = angles[scores.index(best_score)]\n",
    "print('Best angle: {}'.format(best_angle))\n",
    "\n",
    "import numpy as np\n",
    "import cv2\n",
    "\n",
    "def rotate_image(image, angle):\n",
    "  image_center = tuple(np.array(image.shape[1::-1]) / 2)\n",
    "  rot_mat = cv2.getRotationMatrix2D(image_center, angle, 1.0)\n",
    "  result = cv2.warpAffine(image, rot_mat, image.shape[1::-1], flags=cv2.INTER_LINEAR)\n",
    "  return result\n",
    "image = cv2.imread(\"/Users/vishwas/Downloads/IMG_20210924_121635__01__01.jpg\")\n",
    "i=rotate_image(image,2)\n",
    "cv2.imwrite(\"r.jpg\",i)"
   ]
  },
  {
   "cell_type": "code",
   "execution_count": null,
   "metadata": {},
   "outputs": [],
   "source": []
  }
 ],
 "metadata": {
  "kernelspec": {
   "display_name": "Python 3",
   "language": "python",
   "name": "python3"
  },
  "language_info": {
   "codemirror_mode": {
    "name": "ipython",
    "version": 3
   },
   "file_extension": ".py",
   "mimetype": "text/x-python",
   "name": "python",
   "nbconvert_exporter": "python",
   "pygments_lexer": "ipython3",
   "version": "3.7.4"
  }
 },
 "nbformat": 4,
 "nbformat_minor": 4
}
